{
  "nbformat": 4,
  "nbformat_minor": 0,
  "metadata": {
    "colab": {
      "name": "word_cloud.ipynb",
      "provenance": [],
      "include_colab_link": true
    },
    "kernelspec": {
      "name": "python3",
      "display_name": "Python 3"
    }
  },
  "cells": [
    {
      "cell_type": "markdown",
      "metadata": {
        "id": "view-in-github",
        "colab_type": "text"
      },
      "source": [
        "<a href=\"https://colab.research.google.com/github/moshanATucsd/simple_word_cloud_from_pdfs/blob/master/word_cloud.ipynb\" target=\"_parent\"><img src=\"https://colab.research.google.com/assets/colab-badge.svg\" alt=\"Open In Colab\"/></a>"
      ]
    },
    {
      "cell_type": "markdown",
      "metadata": {
        "id": "pWeuPSSj69nd",
        "colab_type": "text"
      },
      "source": [
        "references: [ref1](https://github.com/jackzhenguo/python-small-examples), [ref2](https://www.cnblogs.com/lsdb/p/9199037.html)"
      ]
    },
    {
      "cell_type": "code",
      "metadata": {
        "id": "7xp-e1_I6uy5",
        "colab_type": "code",
        "outputId": "44743856-7d11-4383-b14c-8f25f874c902",
        "colab": {
          "base_uri": "https://localhost:8080/",
          "height": 187
        }
      },
      "source": [
        "!pip install pdfminer3k"
      ],
      "execution_count": 0,
      "outputs": [
        {
          "output_type": "stream",
          "text": [
            "Requirement already satisfied: pdfminer3k in /usr/local/lib/python3.6/dist-packages (1.3.1)\n",
            "Requirement already satisfied: pytest>=2.0 in /usr/local/lib/python3.6/dist-packages (from pdfminer3k) (3.6.4)\n",
            "Requirement already satisfied: ply>=3.4 in /usr/local/lib/python3.6/dist-packages (from pdfminer3k) (3.11)\n",
            "Requirement already satisfied: attrs>=17.4.0 in /usr/local/lib/python3.6/dist-packages (from pytest>=2.0->pdfminer3k) (19.3.0)\n",
            "Requirement already satisfied: py>=1.5.0 in /usr/local/lib/python3.6/dist-packages (from pytest>=2.0->pdfminer3k) (1.8.0)\n",
            "Requirement already satisfied: pluggy<0.8,>=0.5 in /usr/local/lib/python3.6/dist-packages (from pytest>=2.0->pdfminer3k) (0.7.1)\n",
            "Requirement already satisfied: six>=1.10.0 in /usr/local/lib/python3.6/dist-packages (from pytest>=2.0->pdfminer3k) (1.12.0)\n",
            "Requirement already satisfied: setuptools in /usr/local/lib/python3.6/dist-packages (from pytest>=2.0->pdfminer3k) (42.0.2)\n",
            "Requirement already satisfied: atomicwrites>=1.0 in /usr/local/lib/python3.6/dist-packages (from pytest>=2.0->pdfminer3k) (1.3.0)\n",
            "Requirement already satisfied: more-itertools>=4.0.0 in /usr/local/lib/python3.6/dist-packages (from pytest>=2.0->pdfminer3k) (8.0.2)\n"
          ],
          "name": "stdout"
        }
      ]
    },
    {
      "cell_type": "code",
      "metadata": {
        "id": "SsuOgFvL3rPk",
        "colab_type": "code",
        "colab": {}
      },
      "source": [
        "from urllib.request import urlopen\n",
        "from pdfminer.pdfinterp import process_pdf, PDFResourceManager\n",
        "from io import StringIO\n",
        "from pdfminer.layout import LAParams\n",
        "from pdfminer.converter import TextConverter\n",
        "import matplotlib.pyplot as plt\n",
        "from wordcloud import WordCloud"
      ],
      "execution_count": 0,
      "outputs": []
    },
    {
      "cell_type": "code",
      "metadata": {
        "id": "ZbkckIAJ4wa6",
        "colab_type": "code",
        "colab": {}
      },
      "source": [
        "class MyWordCloud():\n",
        "  def __init__(self):\n",
        "    pass \n",
        "\n",
        "  def getPdfText(self, pdf_url):\n",
        "    pdf_file_obj = urlopen(pdf_url)\n",
        "    pdf_rm = PDFResourceManager()\n",
        "    ret_str = StringIO()\n",
        "    lap = LAParams()\n",
        "    tc = TextConverter(pdf_rm, ret_str, laparams=lap)\n",
        "\n",
        "    process_pdf(pdf_rm, tc, pdf_file_obj)\n",
        "    tc.close()\n",
        "    pdf_text = ret_str.getvalue()\n",
        "    ret_str.close()\n",
        "\n",
        "    return pdf_text\n",
        "\n",
        "  def genWordCloud(self, pdf_url_list):\n",
        "    pdf_text = ''\n",
        "\n",
        "    for pdf_url in pdf_url_list:\n",
        "      pdf_text += self.getPdfText(pdf_url)\n",
        "\n",
        "    wc = WordCloud(\n",
        "        background_color=\"white\", \n",
        "        max_words=10, \n",
        "        min_font_size=50,\n",
        "        max_font_size=200,\n",
        "        width=1000  \n",
        "        ).generate(pdf_text)\n",
        "\n",
        "    plt.imshow(wc, interpolation=\"bilinear\")\n",
        "    plt.axis(\"off\")\n",
        "    plt.show()"
      ],
      "execution_count": 0,
      "outputs": []
    },
    {
      "cell_type": "code",
      "metadata": {
        "id": "xHYHgWWS3vos",
        "colab_type": "code",
        "outputId": "66566e38-f7e9-4e4b-d47b-12baaa0ce99d",
        "colab": {
          "base_uri": "https://localhost:8080/",
          "height": 1000
        }
      },
      "source": [
        "if __name__ == '__main__':\n",
        "  pdf_url_list = []\n",
        "\n",
        "  pdf_url = 'https://arxiv.org/pdf/1703.10125.pdf'\n",
        "  pdf_url_list.append(pdf_url)\n",
        "\n",
        "  pdf_url = 'https://arxiv.org/pdf/1707.02069.pdf'\n",
        "  pdf_url_list.append(pdf_url)\n",
        "\n",
        "  pdf_url = 'https://moshanatucsd.github.io/pdfs/paper/scr2019.pdf'\n",
        "  pdf_url_list.append(pdf_url)\n",
        "\n",
        "  pdf_url = 'https://moshanatucsd.github.io/pdfs/presentation/vio_project.pdf'\n",
        "  pdf_url_list.append(pdf_url)\n",
        "\n",
        "  pdf_url = 'https://www.ece.nus.edu.sg/stfpage/eleclf/Block-sparse%20RPCA%20for%20Consistent%20Foregroud%20Detection.pdf'\n",
        "  pdf_url_list.append(pdf_url)\n",
        "\n",
        "  mwc = MyWordCloud()\n",
        "  mwc.genWordCloud(pdf_url_list)"
      ],
      "execution_count": 0,
      "outputs": [
        {
          "output_type": "stream",
          "text": [
            "WARNING:pdfminer.converter:undefined: <PDFType1Font: basefont='ULEUIZ+CMSY10'>, 12\n",
            "WARNING:pdfminer.converter:undefined: <PDFType1Font: basefont='ULEUIZ+CMSY10'>, 12\n",
            "WARNING:pdfminer.converter:undefined: <PDFType1Font: basefont='YQJSDJ+CMEX10'>, 88\n",
            "WARNING:pdfminer.converter:undefined: <PDFType1Font: basefont='YQJSDJ+CMEX10'>, 88\n",
            "WARNING:pdfminer.converter:undefined: <PDFType1Font: basefont='YQJSDJ+CMEX10'>, 88\n",
            "WARNING:pdfminer.converter:undefined: <PDFType1Font: basefont='RCGGIU+CMSY10'>, 12\n",
            "WARNING:pdfminer.converter:undefined: <PDFType1Font: basefont='RCGGIU+CMSY10'>, 12\n",
            "WARNING:root:Cannot locate objid=20\n",
            "WARNING:pdfminer.converter:undefined: <PDFType1Font: basefont='LLTSVC+CMSY10'>, 55\n",
            "WARNING:pdfminer.converter:undefined: <PDFType1Font: basefont='DBWFZV+CMEX10'>, 80\n",
            "WARNING:pdfminer.converter:undefined: <PDFType1Font: basefont='DBWFZV+CMEX10'>, 80\n",
            "WARNING:pdfminer.converter:undefined: <PDFType1Font: basefont='DBWFZV+CMEX10'>, 80\n",
            "WARNING:pdfminer.converter:undefined: <PDFType1Font: basefont='DBWFZV+CMEX10'>, 80\n",
            "WARNING:pdfminer.converter:undefined: <PDFType1Font: basefont='DBWFZV+CMEX10'>, 80\n",
            "WARNING:pdfminer.converter:undefined: <PDFType1Font: basefont='DBWFZV+CMEX10'>, 80\n",
            "WARNING:root:Cannot locate objid=127\n",
            "WARNING:pdfminer.converter:undefined: <PDFType1Font: basefont='CHEAYR+MSAM10'>, 44\n",
            "WARNING:pdfminer.converter:undefined: <PDFType1Font: basefont='INFNXT+CMEX10'>, 88\n",
            "WARNING:pdfminer.converter:undefined: <PDFType1Font: basefont='INFNXT+CMEX10'>, 88\n",
            "WARNING:pdfminer.converter:undefined: <PDFType1Font: basefont='INFNXT+CMEX10'>, 88\n",
            "WARNING:pdfminer.converter:undefined: <PDFType1Font: basefont='INFNXT+CMEX10'>, 16\n",
            "WARNING:pdfminer.converter:undefined: <PDFType1Font: basefont='INFNXT+CMEX10'>, 17\n",
            "WARNING:pdfminer.converter:undefined: <PDFType1Font: basefont='CHEAYR+MSAM10'>, 44\n",
            "WARNING:pdfminer.converter:undefined: <PDFType1Font: basefont='CHEAYR+MSAM10'>, 44\n",
            "WARNING:pdfminer.converter:undefined: <PDFType1Font: basefont='CHEAYR+MSAM10'>, 44\n",
            "WARNING:pdfminer.converter:undefined: <PDFType1Font: basefont='INFNXT+CMEX10'>, 18\n",
            "WARNING:pdfminer.converter:undefined: <PDFType1Font: basefont='INFNXT+CMEX10'>, 19\n",
            "WARNING:pdfminer.converter:undefined: <PDFType1Font: basefont='INFNXT+CMEX10'>, 0\n",
            "WARNING:pdfminer.converter:undefined: <PDFType1Font: basefont='INFNXT+CMEX10'>, 1\n",
            "WARNING:pdfminer.converter:undefined: <PDFType1Font: basefont='KMWLYI+CMSY8'>, 62\n",
            "WARNING:pdfminer.converter:undefined: <PDFType1Font: basefont='INFNXT+CMEX10'>, 0\n",
            "WARNING:pdfminer.converter:undefined: <PDFType1Font: basefont='INFNXT+CMEX10'>, 1\n",
            "WARNING:pdfminer.converter:undefined: <PDFType1Font: basefont='KMWLYI+CMSY8'>, 62\n",
            "WARNING:pdfminer.converter:undefined: <PDFType1Font: basefont='KMWLYI+CMSY8'>, 62\n",
            "WARNING:pdfminer.converter:undefined: <PDFType1Font: basefont='INFNXT+CMEX10'>, 12\n",
            "WARNING:pdfminer.converter:undefined: <PDFType1Font: basefont='INFNXT+CMEX10'>, 12\n",
            "WARNING:pdfminer.converter:undefined: <PDFType1Font: basefont='INFNXT+CMEX10'>, 12\n",
            "WARNING:pdfminer.converter:undefined: <PDFType1Font: basefont='INFNXT+CMEX10'>, 12\n",
            "WARNING:pdfminer.converter:undefined: <PDFType1Font: basefont='CHEAYR+MSAM10'>, 44\n",
            "WARNING:pdfminer.converter:undefined: <PDFType1Font: basefont='INFNXT+CMEX10'>, 0\n",
            "WARNING:pdfminer.converter:undefined: <PDFType1Font: basefont='INFNXT+CMEX10'>, 1\n",
            "WARNING:pdfminer.converter:undefined: <PDFType1Font: basefont='CHEAYR+MSAM10'>, 44\n",
            "WARNING:pdfminer.converter:undefined: <PDFType1Font: basefont='INFNXT+CMEX10'>, 0\n",
            "WARNING:pdfminer.converter:undefined: <PDFType1Font: basefont='INFNXT+CMEX10'>, 1\n",
            "WARNING:pdfminer.converter:undefined: <PDFType1Font: basefont='CHEAYR+MSAM10'>, 44\n",
            "WARNING:pdfminer.converter:undefined: <PDFType1Font: basefont='INFNXT+CMEX10'>, 16\n",
            "WARNING:pdfminer.converter:undefined: <PDFType1Font: basefont='INFNXT+CMEX10'>, 17\n",
            "WARNING:pdfminer.converter:undefined: <PDFType1Font: basefont='ICBUOU+CMSY10'>, 39\n",
            "WARNING:pdfminer.converter:undefined: <PDFType1Font: basefont='KMWLYI+CMSY8'>, 62\n",
            "WARNING:pdfminer.converter:undefined: <PDFType1Font: basefont='KMWLYI+CMSY8'>, 62\n",
            "WARNING:pdfminer.converter:undefined: <PDFType1Font: basefont='CHEAYR+MSAM10'>, 44\n",
            "WARNING:pdfminer.converter:undefined: <PDFType1Font: basefont='CHEAYR+MSAM10'>, 44\n",
            "WARNING:pdfminer.converter:undefined: <PDFType1Font: basefont='CHEAYR+MSAM10'>, 44\n",
            "WARNING:pdfminer.converter:undefined: <PDFType1Font: basefont='INFNXT+CMEX10'>, 0\n",
            "WARNING:pdfminer.converter:undefined: <PDFType1Font: basefont='INFNXT+CMEX10'>, 1\n",
            "WARNING:pdfminer.converter:undefined: <PDFType1Font: basefont='CHEAYR+MSAM10'>, 44\n",
            "WARNING:pdfminer.converter:undefined: <PDFType1Font: basefont='INFNXT+CMEX10'>, 0\n",
            "WARNING:pdfminer.converter:undefined: <PDFType1Font: basefont='INFNXT+CMEX10'>, 1\n",
            "WARNING:pdfminer.converter:undefined: <PDFType1Font: basefont='INFNXT+CMEX10'>, 2\n",
            "WARNING:pdfminer.converter:undefined: <PDFType1Font: basefont='KMWLYI+CMSY8'>, 62\n",
            "WARNING:pdfminer.converter:undefined: <PDFType1Font: basefont='INFNXT+CMEX10'>, 3\n",
            "WARNING:pdfminer.converter:undefined: <PDFType1Font: basefont='INFNXT+CMEX10'>, 90\n",
            "WARNING:pdfminer.converter:undefined: <PDFType1Font: basefont='INFNXT+CMEX10'>, 90\n",
            "WARNING:pdfminer.converter:undefined: <PDFType1Font: basefont='KMWLYI+CMSY8'>, 62\n",
            "WARNING:pdfminer.converter:undefined: <PDFType1Font: basefont='INFNXT+CMEX10'>, 18\n",
            "WARNING:pdfminer.converter:undefined: <PDFType1Font: basefont='INFNXT+CMEX10'>, 19\n",
            "WARNING:pdfminer.converter:undefined: <PDFType1Font: basefont='INFNXT+CMEX10'>, 18\n",
            "WARNING:pdfminer.converter:undefined: <PDFType1Font: basefont='INFNXT+CMEX10'>, 19\n",
            "WARNING:pdfminer.converter:undefined: <PDFType1Font: basefont='KMWLYI+CMSY8'>, 62\n",
            "WARNING:pdfminer.converter:undefined: <PDFType1Font: basefont='EJTPVS+CMMIB10'>, 96\n",
            "WARNING:pdfminer.converter:undefined: <PDFType1Font: basefont='INFNXT+CMEX10'>, 16\n",
            "WARNING:pdfminer.converter:undefined: <PDFType1Font: basefont='KMWLYI+CMSY8'>, 62\n",
            "WARNING:pdfminer.converter:undefined: <PDFType1Font: basefont='EJTPVS+CMMIB10'>, 96\n",
            "WARNING:pdfminer.converter:undefined: <PDFType1Font: basefont='INFNXT+CMEX10'>, 17\n",
            "WARNING:pdfminer.converter:undefined: <PDFType1Font: basefont='EJTPVS+CMMIB10'>, 96\n",
            "WARNING:pdfminer.converter:undefined: <PDFType1Font: basefont='EDMYPP+CMMI8'>, 96\n",
            "WARNING:pdfminer.converter:undefined: <PDFType1Font: basefont='EJTPVS+CMMIB10'>, 96\n",
            "WARNING:pdfminer.converter:undefined: <PDFType1Font: basefont='KMWLYI+CMSY8'>, 62\n",
            "WARNING:pdfminer.converter:undefined: <PDFType1Font: basefont='KMWLYI+CMSY8'>, 62\n",
            "WARNING:pdfminer.converter:undefined: <PDFType1Font: basefont='KMWLYI+CMSY8'>, 62\n",
            "WARNING:pdfminer.converter:undefined: <PDFType1Font: basefont='INFNXT+CMEX10'>, 0\n",
            "WARNING:pdfminer.converter:undefined: <PDFType1Font: basefont='EJTPVS+CMMIB10'>, 96\n",
            "WARNING:pdfminer.converter:undefined: <PDFType1Font: basefont='EJTPVS+CMMIB10'>, 96\n",
            "WARNING:pdfminer.converter:undefined: <PDFType1Font: basefont='INFNXT+CMEX10'>, 1\n",
            "WARNING:pdfminer.converter:undefined: <PDFType1Font: basefont='INFNXT+CMEX10'>, 20\n",
            "WARNING:pdfminer.converter:undefined: <PDFType1Font: basefont='INFNXT+CMEX10'>, 21\n",
            "WARNING:pdfminer.converter:undefined: <PDFType1Font: basefont='INFNXT+CMEX10'>, 20\n",
            "WARNING:pdfminer.converter:undefined: <PDFType1Font: basefont='INFNXT+CMEX10'>, 21\n",
            "WARNING:pdfminer.converter:undefined: <PDFType1Font: basefont='INFNXT+CMEX10'>, 20\n",
            "WARNING:pdfminer.converter:undefined: <PDFType1Font: basefont='INFNXT+CMEX10'>, 21\n",
            "WARNING:pdfminer.converter:undefined: <PDFType1Font: basefont='EJTPVS+CMMIB10'>, 96\n",
            "WARNING:pdfminer.converter:undefined: <PDFType1Font: basefont='EJTPVS+CMMIB10'>, 96\n",
            "WARNING:pdfminer.converter:undefined: <PDFType1Font: basefont='EJTPVS+CMMIB10'>, 96\n",
            "WARNING:pdfminer.converter:undefined: <PDFType1Font: basefont='EJTPVS+CMMIB10'>, 96\n",
            "WARNING:pdfminer.converter:undefined: <PDFType1Font: basefont='EJTPVS+CMMIB10'>, 96\n",
            "WARNING:pdfminer.converter:undefined: <PDFType1Font: basefont='EJTPVS+CMMIB10'>, 96\n",
            "WARNING:pdfminer.converter:undefined: <PDFType1Font: basefont='EJTPVS+CMMIB10'>, 96\n",
            "WARNING:pdfminer.converter:undefined: <PDFType1Font: basefont='KMWLYI+CMSY8'>, 62\n",
            "WARNING:root:Cannot locate objid=244\n",
            "WARNING:pdfminer.converter:undefined: <PDFType1Font: basefont='WAXMEH+CMEX10'>, 112\n",
            "WARNING:pdfminer.converter:undefined: <PDFType1Font: basefont='TAILUD+CMEX9'>, 88\n",
            "WARNING:pdfminer.converter:undefined: <PDFType1Font: basefont='TAILUD+CMEX9'>, 88\n",
            "WARNING:pdfminer.converter:undefined: <PDFType1Font: basefont='QQXACN+CMSY9'>, 104\n",
            "WARNING:pdfminer.converter:undefined: <PDFType1Font: basefont='QQXACN+CMSY9'>, 105\n",
            "WARNING:pdfminer.converter:undefined: <PDFType1Font: basefont='TAILUD+CMEX9'>, 40\n",
            "WARNING:pdfminer.converter:undefined: <PDFType1Font: basefont='WAXMEH+CMEX10'>, 112\n",
            "WARNING:pdfminer.converter:undefined: <PDFType1Font: basefont='TAILUD+CMEX9'>, 112\n",
            "WARNING:pdfminer.converter:undefined: <PDFType1Font: basefont='TAILUD+CMEX9'>, 112\n",
            "WARNING:pdfminer.converter:undefined: <PDFType1Font: basefont='TAILUD+CMEX9'>, 112\n"
          ],
          "name": "stderr"
        },
        {
          "output_type": "display_data",
          "data": {
            "image/png": "[encoded data removed]",
            "text/plain": [
              "<Figure size 432x288 with 1 Axes>"
            ]
          },
          "metadata": {
            "tags": []
          }
        }
      ]
    }
  ]
}